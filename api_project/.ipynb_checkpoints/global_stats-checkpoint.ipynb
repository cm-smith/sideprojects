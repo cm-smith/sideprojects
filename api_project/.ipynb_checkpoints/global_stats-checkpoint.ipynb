{
 "cells": [
  {
   "cell_type": "markdown",
   "metadata": {},
   "source": [
    "# API Project\n",
    "---\n",
    "## Using INQStats as a Source for Global Statistics"
   ]
  },
  {
   "cell_type": "code",
   "execution_count": 171,
   "metadata": {
    "collapsed": false
   },
   "outputs": [],
   "source": [
    "%matplotlib inline\n",
    "\n",
    "import numpy as np\n",
    "import pandas as pd\n",
    "import matplotlib as mpl\n",
    "import matplotlib.pyplot as plt\n",
    "import seaborn as sns\n",
    "import requests"
   ]
  },
  {
   "cell_type": "code",
   "execution_count": 174,
   "metadata": {
    "collapsed": false
   },
   "outputs": [
    {
     "name": "stdout",
     "output_type": "stream",
     "text": [
      "http://inqstatsapi.inqubu.com?api_key=08885493238920ff&cmd=getWorldData&data=murder_rate\n",
      "[\n",
      "    {\n",
      "        \"countryName\": \"Afghanistan\",\n",
      "        \"countryCode\": \"af\",\n",
      "        \"murder_rate\": \"2.4\",\n",
      "        \"year\": \"2012\"\n",
      "    },\n",
      "    {\n",
      "        \"countryName\": \"Egypt\",\n",
      "        \"countryCode\": \"eg\",\n",
      "        \"murder_rate\": \"1.2\",\n",
      "        \"year\": \"2012\"\n",
      "    },\n",
      "    {\n",
      "        \"countryName\": \"Albania\",\n",
      "        \"countryCode\": \"al\",\n",
      "        \"murder_rate\": \"4\",\n",
      "        \"year\": \"2013\"\n",
      "    },\n",
      "    {\n",
      "     \n",
      "...\n"
     ]
    }
   ],
   "source": [
    "def get_url(data, year, cmd=True, countries=None):\n",
    "    \"\"\"\n",
    "    PARAMETERS\n",
    "    ----------\n",
    "    data: str\n",
    "        Data set provided by API\n",
    "    year: int\n",
    "        Year `data` is obtained from\n",
    "    cmd: boolean\n",
    "        Whether or not you want information from every country available\n",
    "    countries: str\n",
    "        Comma delimited countries of interest (only if cmd is False)\n",
    "    \n",
    "    RETURNS\n",
    "    -------\n",
    "    String encoding url to fetch JSON data\n",
    "    \n",
    "    REQUIREMENTS\n",
    "    ------------\n",
    "    `import numpy as np`\n",
    "    \"\"\"\n",
    "    url = \"http://inqstatsapi.inqubu.com?api_key=08885493238920ff\"\n",
    "    \n",
    "    if cmd:\n",
    "        url = url + \"&cmd=getWorldData\"\n",
    "        \n",
    "    url = url + \"&data=%s\" % data\n",
    "    \n",
    "    if not np.isnan(year):\n",
    "        url = url + \"&year=%i\" % year\n",
    "    \n",
    "    if not cmd and countries != None:\n",
    "        url = url + \"&countries=%s\" % countries\n",
    "    \n",
    "    return url\n",
    "    \n",
    "# Example:\n",
    "cmd = True\n",
    "data = \"murder_rate\"\n",
    "year = np.nan\n",
    "url = get_url(data, year)\n",
    "print url\n",
    "\n",
    "json = requests.get(url)\n",
    "print \"%.400s\\n...\" % json.content"
   ]
  },
  {
   "cell_type": "code",
   "execution_count": 45,
   "metadata": {
    "collapsed": false
   },
   "outputs": [
    {
     "data": {
      "text/html": [
       "<div>\n",
       "<table border=\"1\" class=\"dataframe\">\n",
       "  <thead>\n",
       "    <tr style=\"text-align: right;\">\n",
       "      <th></th>\n",
       "      <th>countryCode</th>\n",
       "      <th>countryName</th>\n",
       "      <th>murder_rate</th>\n",
       "      <th>year</th>\n",
       "    </tr>\n",
       "  </thead>\n",
       "  <tbody>\n",
       "    <tr>\n",
       "      <th>0</th>\n",
       "      <td>af</td>\n",
       "      <td>Afghanistan</td>\n",
       "      <td>2.40</td>\n",
       "      <td>2012</td>\n",
       "    </tr>\n",
       "    <tr>\n",
       "      <th>1</th>\n",
       "      <td>eg</td>\n",
       "      <td>Egypt</td>\n",
       "      <td>1.20</td>\n",
       "      <td>2012</td>\n",
       "    </tr>\n",
       "    <tr>\n",
       "      <th>2</th>\n",
       "      <td>al</td>\n",
       "      <td>Albania</td>\n",
       "      <td>4.00</td>\n",
       "      <td>2013</td>\n",
       "    </tr>\n",
       "    <tr>\n",
       "      <th>3</th>\n",
       "      <td>dz</td>\n",
       "      <td>Algeria</td>\n",
       "      <td>1.25</td>\n",
       "      <td>2013</td>\n",
       "    </tr>\n",
       "    <tr>\n",
       "      <th>4</th>\n",
       "      <td>ad</td>\n",
       "      <td>Andorra</td>\n",
       "      <td>1.30</td>\n",
       "      <td>2012</td>\n",
       "    </tr>\n",
       "  </tbody>\n",
       "</table>\n",
       "</div>"
      ],
      "text/plain": [
       "  countryCode  countryName  murder_rate  year\n",
       "0          af  Afghanistan         2.40  2012\n",
       "1          eg        Egypt         1.20  2012\n",
       "2          al      Albania         4.00  2013\n",
       "3          dz      Algeria         1.25  2013\n",
       "4          ad      Andorra         1.30  2012"
      ]
     },
     "execution_count": 45,
     "metadata": {},
     "output_type": "execute_result"
    }
   ],
   "source": [
    "df = pd.read_json(json.content)\n",
    "df.head()"
   ]
  },
  {
   "cell_type": "code",
   "execution_count": 46,
   "metadata": {
    "collapsed": false
   },
   "outputs": [
    {
     "data": {
      "text/plain": [
       "countryCode     object\n",
       "countryName     object\n",
       "murder_rate    float64\n",
       "year             int64\n",
       "dtype: object"
      ]
     },
     "execution_count": 46,
     "metadata": {},
     "output_type": "execute_result"
    }
   ],
   "source": [
    "df.dtypes"
   ]
  },
  {
   "cell_type": "code",
   "execution_count": 51,
   "metadata": {
    "collapsed": false
   },
   "outputs": [
    {
     "data": {
      "text/html": [
       "<div>\n",
       "<table border=\"1\" class=\"dataframe\">\n",
       "  <thead>\n",
       "    <tr style=\"text-align: right;\">\n",
       "      <th></th>\n",
       "      <th></th>\n",
       "      <th>murder_rate</th>\n",
       "    </tr>\n",
       "    <tr>\n",
       "      <th>year</th>\n",
       "      <th>countryName</th>\n",
       "      <th></th>\n",
       "    </tr>\n",
       "  </thead>\n",
       "  <tbody>\n",
       "    <tr>\n",
       "      <th>2010</th>\n",
       "      <th>Ethiopia</th>\n",
       "      <td>8.52</td>\n",
       "    </tr>\n",
       "    <tr>\n",
       "      <th rowspan=\"29\" valign=\"top\">2012</th>\n",
       "      <th>Afghanistan</th>\n",
       "      <td>2.40</td>\n",
       "    </tr>\n",
       "    <tr>\n",
       "      <th>Andorra</th>\n",
       "      <td>1.30</td>\n",
       "    </tr>\n",
       "    <tr>\n",
       "      <th>Angola</th>\n",
       "      <td>19.00</td>\n",
       "    </tr>\n",
       "    <tr>\n",
       "      <th>Antigua and Barbuda</th>\n",
       "      <td>6.80</td>\n",
       "    </tr>\n",
       "    <tr>\n",
       "      <th>Argentina</th>\n",
       "      <td>5.50</td>\n",
       "    </tr>\n",
       "    <tr>\n",
       "      <th>Bahamas</th>\n",
       "      <td>36.60</td>\n",
       "    </tr>\n",
       "    <tr>\n",
       "      <th>Bahrain</th>\n",
       "      <td>0.60</td>\n",
       "    </tr>\n",
       "    <tr>\n",
       "      <th>Belarus</th>\n",
       "      <td>4.90</td>\n",
       "    </tr>\n",
       "    <tr>\n",
       "      <th>Belize</th>\n",
       "      <td>41.40</td>\n",
       "    </tr>\n",
       "    <tr>\n",
       "      <th>Benin</th>\n",
       "      <td>15.10</td>\n",
       "    </tr>\n",
       "    <tr>\n",
       "      <th>Bolivia</th>\n",
       "      <td>8.90</td>\n",
       "    </tr>\n",
       "    <tr>\n",
       "      <th>Botswana</th>\n",
       "      <td>14.50</td>\n",
       "    </tr>\n",
       "    <tr>\n",
       "      <th>Burkina Faso</th>\n",
       "      <td>18.00</td>\n",
       "    </tr>\n",
       "    <tr>\n",
       "      <th>Cambodia</th>\n",
       "      <td>3.40</td>\n",
       "    </tr>\n",
       "    <tr>\n",
       "      <th>Cameroon</th>\n",
       "      <td>19.70</td>\n",
       "    </tr>\n",
       "    <tr>\n",
       "      <th>Central African Republic</th>\n",
       "      <td>29.30</td>\n",
       "    </tr>\n",
       "    <tr>\n",
       "      <th>Chad</th>\n",
       "      <td>15.80</td>\n",
       "    </tr>\n",
       "    <tr>\n",
       "      <th>China</th>\n",
       "      <td>1.00</td>\n",
       "    </tr>\n",
       "    <tr>\n",
       "      <th>Comoros</th>\n",
       "      <td>12.20</td>\n",
       "    </tr>\n",
       "    <tr>\n",
       "      <th>Cuba</th>\n",
       "      <td>5.00</td>\n",
       "    </tr>\n",
       "    <tr>\n",
       "      <th>Democratic Republic of the Congo</th>\n",
       "      <td>21.70</td>\n",
       "    </tr>\n",
       "    <tr>\n",
       "      <th>Djibouti</th>\n",
       "      <td>3.40</td>\n",
       "    </tr>\n",
       "    <tr>\n",
       "      <th>Dominica</th>\n",
       "      <td>22.10</td>\n",
       "    </tr>\n",
       "    <tr>\n",
       "      <th>Dominican Republic</th>\n",
       "      <td>25.00</td>\n",
       "    </tr>\n",
       "    <tr>\n",
       "      <th>East Timor</th>\n",
       "      <td>6.90</td>\n",
       "    </tr>\n",
       "    <tr>\n",
       "      <th>Ecuador</th>\n",
       "      <td>18.20</td>\n",
       "    </tr>\n",
       "    <tr>\n",
       "      <th>Egypt</th>\n",
       "      <td>1.20</td>\n",
       "    </tr>\n",
       "    <tr>\n",
       "      <th>Equatorial Guinea</th>\n",
       "      <td>20.70</td>\n",
       "    </tr>\n",
       "    <tr>\n",
       "      <th>Eritrea</th>\n",
       "      <td>17.80</td>\n",
       "    </tr>\n",
       "    <tr>\n",
       "      <th>...</th>\n",
       "      <th>...</th>\n",
       "      <td>...</td>\n",
       "    </tr>\n",
       "    <tr>\n",
       "      <th rowspan=\"30\" valign=\"top\">2013</th>\n",
       "      <th>Netherlands</th>\n",
       "      <td>0.74</td>\n",
       "    </tr>\n",
       "    <tr>\n",
       "      <th>New Zealand</th>\n",
       "      <td>1.00</td>\n",
       "    </tr>\n",
       "    <tr>\n",
       "      <th>Norway</th>\n",
       "      <td>0.92</td>\n",
       "    </tr>\n",
       "    <tr>\n",
       "      <th>Panama</th>\n",
       "      <td>17.10</td>\n",
       "    </tr>\n",
       "    <tr>\n",
       "      <th>Paraguay</th>\n",
       "      <td>8.90</td>\n",
       "    </tr>\n",
       "    <tr>\n",
       "      <th>Peru</th>\n",
       "      <td>6.60</td>\n",
       "    </tr>\n",
       "    <tr>\n",
       "      <th>Philippines</th>\n",
       "      <td>9.30</td>\n",
       "    </tr>\n",
       "    <tr>\n",
       "      <th>Poland</th>\n",
       "      <td>0.78</td>\n",
       "    </tr>\n",
       "    <tr>\n",
       "      <th>Portugal</th>\n",
       "      <td>1.34</td>\n",
       "    </tr>\n",
       "    <tr>\n",
       "      <th>Romania</th>\n",
       "      <td>1.50</td>\n",
       "    </tr>\n",
       "    <tr>\n",
       "      <th>Russia</th>\n",
       "      <td>9.00</td>\n",
       "    </tr>\n",
       "    <tr>\n",
       "      <th>Samoa</th>\n",
       "      <td>3.17</td>\n",
       "    </tr>\n",
       "    <tr>\n",
       "      <th>Serbia</th>\n",
       "      <td>1.45</td>\n",
       "    </tr>\n",
       "    <tr>\n",
       "      <th>Singapore</th>\n",
       "      <td>0.30</td>\n",
       "    </tr>\n",
       "    <tr>\n",
       "      <th>Slovakia</th>\n",
       "      <td>1.40</td>\n",
       "    </tr>\n",
       "    <tr>\n",
       "      <th>Slovenia</th>\n",
       "      <td>0.58</td>\n",
       "    </tr>\n",
       "    <tr>\n",
       "      <th>South Africa</th>\n",
       "      <td>31.86</td>\n",
       "    </tr>\n",
       "    <tr>\n",
       "      <th>Spain</th>\n",
       "      <td>0.62</td>\n",
       "    </tr>\n",
       "    <tr>\n",
       "      <th>Sri Lanka</th>\n",
       "      <td>2.80</td>\n",
       "    </tr>\n",
       "    <tr>\n",
       "      <th>Sweden</th>\n",
       "      <td>0.91</td>\n",
       "    </tr>\n",
       "    <tr>\n",
       "      <th>Switzerland</th>\n",
       "      <td>0.72</td>\n",
       "    </tr>\n",
       "    <tr>\n",
       "      <th>Tajikistan</th>\n",
       "      <td>1.40</td>\n",
       "    </tr>\n",
       "    <tr>\n",
       "      <th>Trinidad and Tobago</th>\n",
       "      <td>30.20</td>\n",
       "    </tr>\n",
       "    <tr>\n",
       "      <th>USA</th>\n",
       "      <td>3.80</td>\n",
       "    </tr>\n",
       "    <tr>\n",
       "      <th>Uganda</th>\n",
       "      <td>10.50</td>\n",
       "    </tr>\n",
       "    <tr>\n",
       "      <th>United Arab Emirates</th>\n",
       "      <td>0.60</td>\n",
       "    </tr>\n",
       "    <tr>\n",
       "      <th>United Kingdom</th>\n",
       "      <td>0.95</td>\n",
       "    </tr>\n",
       "    <tr>\n",
       "      <th>Uruguay</th>\n",
       "      <td>7.70</td>\n",
       "    </tr>\n",
       "    <tr>\n",
       "      <th>Vatican City</th>\n",
       "      <td>0.00</td>\n",
       "    </tr>\n",
       "    <tr>\n",
       "      <th>Yemen</th>\n",
       "      <td>7.00</td>\n",
       "    </tr>\n",
       "  </tbody>\n",
       "</table>\n",
       "<p>193 rows × 1 columns</p>\n",
       "</div>"
      ],
      "text/plain": [
       "                                       murder_rate\n",
       "year countryName                                  \n",
       "2010 Ethiopia                                 8.52\n",
       "2012 Afghanistan                              2.40\n",
       "     Andorra                                  1.30\n",
       "     Angola                                  19.00\n",
       "     Antigua and Barbuda                      6.80\n",
       "     Argentina                                5.50\n",
       "     Bahamas                                 36.60\n",
       "     Bahrain                                  0.60\n",
       "     Belarus                                  4.90\n",
       "     Belize                                  41.40\n",
       "     Benin                                   15.10\n",
       "     Bolivia                                  8.90\n",
       "     Botswana                                14.50\n",
       "     Burkina Faso                            18.00\n",
       "     Cambodia                                 3.40\n",
       "     Cameroon                                19.70\n",
       "     Central African Republic                29.30\n",
       "     Chad                                    15.80\n",
       "     China                                    1.00\n",
       "     Comoros                                 12.20\n",
       "     Cuba                                     5.00\n",
       "     Democratic Republic of the Congo        21.70\n",
       "     Djibouti                                 3.40\n",
       "     Dominica                                22.10\n",
       "     Dominican Republic                      25.00\n",
       "     East Timor                               6.90\n",
       "     Ecuador                                 18.20\n",
       "     Egypt                                    1.20\n",
       "     Equatorial Guinea                       20.70\n",
       "     Eritrea                                 17.80\n",
       "...                                            ...\n",
       "2013 Netherlands                              0.74\n",
       "     New Zealand                              1.00\n",
       "     Norway                                   0.92\n",
       "     Panama                                  17.10\n",
       "     Paraguay                                 8.90\n",
       "     Peru                                     6.60\n",
       "     Philippines                              9.30\n",
       "     Poland                                   0.78\n",
       "     Portugal                                 1.34\n",
       "     Romania                                  1.50\n",
       "     Russia                                   9.00\n",
       "     Samoa                                    3.17\n",
       "     Serbia                                   1.45\n",
       "     Singapore                                0.30\n",
       "     Slovakia                                 1.40\n",
       "     Slovenia                                 0.58\n",
       "     South Africa                            31.86\n",
       "     Spain                                    0.62\n",
       "     Sri Lanka                                2.80\n",
       "     Sweden                                   0.91\n",
       "     Switzerland                              0.72\n",
       "     Tajikistan                               1.40\n",
       "     Trinidad and Tobago                     30.20\n",
       "     USA                                      3.80\n",
       "     Uganda                                  10.50\n",
       "     United Arab Emirates                     0.60\n",
       "     United Kingdom                           0.95\n",
       "     Uruguay                                  7.70\n",
       "     Vatican City                             0.00\n",
       "     Yemen                                    7.00\n",
       "\n",
       "[193 rows x 1 columns]"
      ]
     },
     "execution_count": 51,
     "metadata": {},
     "output_type": "execute_result"
    }
   ],
   "source": [
    "df.groupby([\"year\", \"countryName\"]).mean()"
   ]
  },
  {
   "cell_type": "markdown",
   "metadata": {},
   "source": [
    "We can tell which years have the most information and data compiled (2012, 2013). Let's focus on one of these years and see if we can find anything of interest."
   ]
  },
  {
   "cell_type": "code",
   "execution_count": 175,
   "metadata": {
    "collapsed": false
   },
   "outputs": [
    {
     "data": {
      "text/html": [
       "<div>\n",
       "<table border=\"1\" class=\"dataframe\">\n",
       "  <thead>\n",
       "    <tr style=\"text-align: right;\">\n",
       "      <th></th>\n",
       "      <th>countryCode</th>\n",
       "      <th>countryName</th>\n",
       "      <th>murder_rate</th>\n",
       "      <th>year</th>\n",
       "    </tr>\n",
       "  </thead>\n",
       "  <tbody>\n",
       "    <tr>\n",
       "      <th>0</th>\n",
       "      <td>al</td>\n",
       "      <td>Albania</td>\n",
       "      <td>4.00</td>\n",
       "      <td>2013</td>\n",
       "    </tr>\n",
       "    <tr>\n",
       "      <th>1</th>\n",
       "      <td>dz</td>\n",
       "      <td>Algeria</td>\n",
       "      <td>1.25</td>\n",
       "      <td>2013</td>\n",
       "    </tr>\n",
       "    <tr>\n",
       "      <th>2</th>\n",
       "      <td>at</td>\n",
       "      <td>Austria</td>\n",
       "      <td>0.70</td>\n",
       "      <td>2013</td>\n",
       "    </tr>\n",
       "    <tr>\n",
       "      <th>3</th>\n",
       "      <td>am</td>\n",
       "      <td>Armenia</td>\n",
       "      <td>2.00</td>\n",
       "      <td>2013</td>\n",
       "    </tr>\n",
       "    <tr>\n",
       "      <th>4</th>\n",
       "      <td>az</td>\n",
       "      <td>Azerbaijan</td>\n",
       "      <td>2.30</td>\n",
       "      <td>2013</td>\n",
       "    </tr>\n",
       "  </tbody>\n",
       "</table>\n",
       "</div>"
      ],
      "text/plain": [
       "  countryCode countryName  murder_rate  year\n",
       "0          al     Albania         4.00  2013\n",
       "1          dz     Algeria         1.25  2013\n",
       "2          at     Austria         0.70  2013\n",
       "3          am     Armenia         2.00  2013\n",
       "4          az  Azerbaijan         2.30  2013"
      ]
     },
     "execution_count": 175,
     "metadata": {},
     "output_type": "execute_result"
    }
   ],
   "source": [
    "url = get_url(data=\"murder_rate\", year=2013)\n",
    "json = requests.get(url)\n",
    "df = pd.read_json(json.content)\n",
    "df.head()"
   ]
  },
  {
   "cell_type": "code",
   "execution_count": 63,
   "metadata": {
    "collapsed": false
   },
   "outputs": [
    {
     "data": {
      "text/html": [
       "<div>\n",
       "<table border=\"1\" class=\"dataframe\">\n",
       "  <thead>\n",
       "    <tr style=\"text-align: right;\">\n",
       "      <th></th>\n",
       "      <th>murder_rate</th>\n",
       "    </tr>\n",
       "    <tr>\n",
       "      <th>countryName</th>\n",
       "      <th></th>\n",
       "    </tr>\n",
       "  </thead>\n",
       "  <tbody>\n",
       "    <tr>\n",
       "      <th>Albania</th>\n",
       "      <td>4.00</td>\n",
       "    </tr>\n",
       "    <tr>\n",
       "      <th>Algeria</th>\n",
       "      <td>1.25</td>\n",
       "    </tr>\n",
       "    <tr>\n",
       "      <th>Austria</th>\n",
       "      <td>0.70</td>\n",
       "    </tr>\n",
       "    <tr>\n",
       "      <th>Armenia</th>\n",
       "      <td>2.00</td>\n",
       "    </tr>\n",
       "    <tr>\n",
       "      <th>Azerbaijan</th>\n",
       "      <td>2.30</td>\n",
       "    </tr>\n",
       "  </tbody>\n",
       "</table>\n",
       "</div>"
      ],
      "text/plain": [
       "             murder_rate\n",
       "countryName             \n",
       "Albania             4.00\n",
       "Algeria             1.25\n",
       "Austria             0.70\n",
       "Armenia             2.00\n",
       "Azerbaijan          2.30"
      ]
     },
     "execution_count": 63,
     "metadata": {},
     "output_type": "execute_result"
    }
   ],
   "source": [
    "# Clean up DataFrame\n",
    "df.index = df[\"countryName\"]\n",
    "df = df.drop([\"countryCode\", \"countryName\", \"year\"], axis=1)\n",
    "df.head()"
   ]
  },
  {
   "cell_type": "code",
   "execution_count": 70,
   "metadata": {
    "collapsed": false
   },
   "outputs": [
    {
     "data": {
      "image/png": "[encoded data removed]",
      "text/plain": [
       "<matplotlib.figure.Figure at 0x11b798150>"
      ]
     },
     "metadata": {},
     "output_type": "display_data"
    }
   ],
   "source": [
    "plt.figure(num=None, figsize=(16, 6), dpi=80, facecolor='w', edgecolor='k')\n",
    "sorted_murder_rate = df['murder_rate'].sort_values()\n",
    "sorted_murder_rate.plot(kind=\"bar\", alpha=0.7)\n",
    "plt.title(\"2013 International Murder Rates\")\n",
    "plt.xlabel(\"Country\")\n",
    "plt.ylabel(\"Murder Rate\")\n",
    "plt.show()"
   ]
  },
  {
   "cell_type": "markdown",
   "metadata": {},
   "source": [
    "Next, we'll see if we can contextualize this information by plotting it against some other factor that may influence it. For example, for our current statistic of interest (`murder_rate`), we may consider seeing if a country's literacy rate (`literacy_rate`) has some correlation.\n",
    "\n",
    "To do this, we have written a function below to make a DataFrame containing two pieces of data charted side-by-side for easy plotting."
   ]
  },
  {
   "cell_type": "code",
   "execution_count": 191,
   "metadata": {
    "collapsed": false
   },
   "outputs": [
    {
     "data": {
      "text/html": [
       "<div>\n",
       "<table border=\"1\" class=\"dataframe\">\n",
       "  <thead>\n",
       "    <tr style=\"text-align: right;\">\n",
       "      <th></th>\n",
       "      <th>literacy_rate</th>\n",
       "      <th>murder_rate</th>\n",
       "      <th>median_age</th>\n",
       "    </tr>\n",
       "    <tr>\n",
       "      <th>countryName</th>\n",
       "      <th></th>\n",
       "      <th></th>\n",
       "      <th></th>\n",
       "    </tr>\n",
       "  </thead>\n",
       "  <tbody>\n",
       "    <tr>\n",
       "      <th>Albania</th>\n",
       "      <td>98.80</td>\n",
       "      <td>4.00</td>\n",
       "      <td>31.2</td>\n",
       "    </tr>\n",
       "    <tr>\n",
       "      <th>Azerbaijan</th>\n",
       "      <td>99.79</td>\n",
       "      <td>2.30</td>\n",
       "      <td>29.8</td>\n",
       "    </tr>\n",
       "    <tr>\n",
       "      <th>Bangladesh</th>\n",
       "      <td>59.72</td>\n",
       "      <td>2.80</td>\n",
       "      <td>23.9</td>\n",
       "    </tr>\n",
       "    <tr>\n",
       "      <th>Bosnia and Herzegovina</th>\n",
       "      <td>98.26</td>\n",
       "      <td>1.22</td>\n",
       "      <td>40.4</td>\n",
       "    </tr>\n",
       "    <tr>\n",
       "      <th>Brazil</th>\n",
       "      <td>91.48</td>\n",
       "      <td>26.50</td>\n",
       "      <td>30.3</td>\n",
       "    </tr>\n",
       "  </tbody>\n",
       "</table>\n",
       "</div>"
      ],
      "text/plain": [
       "                        literacy_rate  murder_rate  median_age\n",
       "countryName                                                   \n",
       "Albania                         98.80         4.00        31.2\n",
       "Azerbaijan                      99.79         2.30        29.8\n",
       "Bangladesh                      59.72         2.80        23.9\n",
       "Bosnia and Herzegovina          98.26         1.22        40.4\n",
       "Brazil                          91.48        26.50        30.3"
      ]
     },
     "execution_count": 191,
     "metadata": {},
     "output_type": "execute_result"
    }
   ],
   "source": [
    "def comp_df(year, *data):\n",
    "    \"\"\"\n",
    "    PARAMETERS\n",
    "    ----------\n",
    "    year: int\n",
    "        Year to retrieve information from\n",
    "    *data: str\n",
    "        Information to retrieve from API\n",
    "    \n",
    "    RETURNS\n",
    "    -------\n",
    "    Pandas DataFrame indexed by `countryName` with values from *data\n",
    "    \n",
    "    REQUIREMENTS\n",
    "    ------------\n",
    "    `import requests`\n",
    "    `import pandas as pd`\n",
    "    \"\"\"\n",
    "    if len(data) == 0:\n",
    "        return\n",
    "    \n",
    "    # instantiate DataFrame\n",
    "    url = get_url(data[0], year)\n",
    "    df = pd.read_json((requests.get(url)).content)\n",
    "    \n",
    "    for d in data[1:]:\n",
    "        url_temp = get_url(d, year)\n",
    "        df_temp = pd.read_json((requests.get(url_temp)).content)\n",
    "        df_temp.drop([\"countryCode\", \"year\"], inplace=True, axis=1)\n",
    "        df = df.merge(df_temp, on=\"countryName\")\n",
    "    \n",
    "    df.index = df[\"countryName\"]\n",
    "    df.drop([\"countryCode\", \"countryName\", \"year\"], inplace=True, axis=1)\n",
    "    return df\n",
    "\n",
    "# Example:\n",
    "data1 = \"literacy_rate\"\n",
    "data2 = \"murder_rate\"\n",
    "data3 = \"median_age\"\n",
    "year = 2013\n",
    "df = comp_df(year, *[data1, data2, data3])\n",
    "df.head()"
   ]
  },
  {
   "cell_type": "code",
   "execution_count": 154,
   "metadata": {
    "collapsed": false
   },
   "outputs": [
    {
     "data": {
      "image/png": "[encoded data removed]",
      "text/plain": [
       "<matplotlib.figure.Figure at 0x11bfbd850>"
      ]
     },
     "metadata": {},
     "output_type": "display_data"
    }
   ],
   "source": [
    "def get_graph(data1, data2, df, year):\n",
    "    \"\"\"\n",
    "    PARAMETERS\n",
    "    ----------\n",
    "    data1: str\n",
    "        The column of DataFrame `df` that will be the independent variable\n",
    "    data2: str\n",
    "        The column of DataFrame `df` that will be the dependent variable\n",
    "    df: Pandas DataFrame\n",
    "        Contains columns `data1` and `data2`\n",
    "    year: int\n",
    "        The year that the data was compiled from\n",
    "    \n",
    "    RETURNS\n",
    "    -------\n",
    "    Nothing; prints graph\n",
    "    \n",
    "    \"\"\"\n",
    "    fig = plt.figure()\n",
    "    plt.scatter(df[data1], df[data2])\n",
    "    plt.xlabel(\"%s\" % data1)\n",
    "    plt.ylabel(\"%s\" % data2)\n",
    "    plt.title(\"Plotting %s vs %s for year %i\\nNumber of countries plotted: %i\" \n",
    "          % (data1, data2, year, len(df.index)))\n",
    "    #return fig\n",
    "\n",
    "# Example:\n",
    "data1 = \"literacy_rate\"\n",
    "data2 = \"murder_rate\"\n",
    "year = 2013\n",
    "df = comp_df(year, *[data1, data2])\n",
    "get_graph(data1, data2, df, year)"
   ]
  },
  {
   "cell_type": "markdown",
   "metadata": {},
   "source": [
    "## Exploratory Analysis\n",
    "---\n",
    "On first look, it doesn't look like our graph gives us much information to work with. Let's test out a few other pieces of data sets. We can see what the API offers by scraping the info off their [blog](http://inqubu.com/blog/inqstats-open-api-published-to-get-demographic-data)."
   ]
  },
  {
   "cell_type": "code",
   "execution_count": 165,
   "metadata": {
    "collapsed": false,
    "scrolled": true
   },
   "outputs": [
    {
     "data": {
      "text/html": [
       "<table border=\"1\" style=\"width:600px;\">\n",
       "<tbody><tr><td style=\"width:100px\"><b>Key</b></td>\n",
       "<td><b>Description</b></td><td><b>Source</b></td></tr>\n",
       "<tr>\n",
       "<td>bigmac_index</td>\n",
       "<td>Returns the price for a Big Mac by McDonald's derived from www.bigmacindex.org (unit: USD).</td>\n",
       "<td>www.bigmacindex.org</td>\n",
       "</tr>\n",
       "<tr>\n",
       "<td>birth_rate</td>\n",
       "<td>The average number of birth per year per 1,000 population.</td>\n",
       "<td>Worldbank</td>\n",
       "</tr>\n",
       "<tr>\n",
       "<td>co2_emissions</td>\n",
       "<td>Returns the CO2 emissions in metric tons per person per year.</td>\n",
       "<td>Global Carbon Atlas</td>\n",
       "</tr>\n",
       "<tr>\n",
       "<td>corruption_index</td>\n",
       "<td>Returns the Corruption Perceptions Index (CPI) published by www.transparency.org (scale: 0-100; 0 = high corruption. 100 = low corruption)</td>\n",
       "<td>www.transparency.org</td>\n",
       "</tr>\n",
       "<tr>\n",
       "<td>density</td>\n",
       "<td>Returns the population density of a country (per km²).</td>\n",
       "<td>-</td>\n",
       "</tr>\n",
       "<tr>\n",
       "<td>death_rate</td>\n",
       "<td>The average number of death per year per 1,000 population.</td>\n",
       "<td>Worldbank</td>\n",
       "</tr>\n",
       "<tr>\n",
       "<td>debts</td>\n",
       "<td>The total amount of government borrowings (unit: USD).</td>\n",
       "<td>Worldbank</td>\n",
       "</tr>\n",
       "<tr>\n",
       "<td>debts_capita</td>\n",
       "<td>The amount of government borrowings per person (unit: USD).</td>\n",
       "<td>Worldbank</td>\n",
       "</tr>\n",
       "<tr>\n",
       "<td>debts_percent</td>\n",
       "<td>The percentage of government borrowings in relation to the GDP.</td>\n",
       "<td>Worldbank</td>\n",
       "</tr>\n",
       "<tr>\n",
       "<td>diabetes_prevalence</td>\n",
       "<td>The percentage of people ages 20-79 who have type 1 or type 2 diabetes.</td>\n",
       "<td>Worldbank</td>\n",
       "</tr>\n",
       "<tr>\n",
       "<td>education_expenditure</td>\n",
       "<td>Returns the public expenditure on education (in % of the GDP for a country).</td>\n",
       "<td>Worldbank</td>\n",
       "</tr>\n",
       "<tr>\n",
       "<td>electric_energy_consumption</td>\n",
       "<td>Returns the amount of electric energy consumed (in kWh/capita)</td>\n",
       "<td>Worldbank</td>\n",
       "</tr>\n",
       "<tr>\n",
       "<td>fifa</td>\n",
       "<td>Returns the ranking of a country in the FIFA football ranking board.</td>\n",
       "<td>www.fifa.com</td>\n",
       "</tr>\n",
       "<tr>\n",
       "<td>first_marriage_men</td>\n",
       "<td>Returns the age of first marriage for men.</td>\n",
       "<td>Worldbank</td>\n",
       "</tr>\n",
       "<tr>\n",
       "<td>first_marriage_women</td>\n",
       "<td>Returns the age of first marriage for women.</td>\n",
       "<td>Worldbank</td>\n",
       "</tr>\n",
       "<tr>\n",
       "<td>fixed_telephone_subscriptions</td>\n",
       "<td>Returns the number of landline phone subscriptions (per 100 population)</td>\n",
       "<td>Worldbank</td>\n",
       "</tr>\n",
       "<tr>\n",
       "<td>forest_area</td>\n",
       "<td>Returns the total amount of forest area in a country (in km²)</td>\n",
       "<td>Worldbank</td>\n",
       "</tr>\n",
       "<tr>\n",
       "<td>forest_area_percent</td>\n",
       "<td>Returns the percentage of the land area covered by a forest for a country.</td>\n",
       "<td>Worldbank</td>\n",
       "</tr>\n",
       "<tr>\n",
       "<td>gdp_total</td>\n",
       "<td>Returns the total Gross Domestic Product (GDP) for a country (unit: USD).</td>\n",
       "<td>Worldbank</td>\n",
       "</tr>\n",
       "<tr>\n",
       "<td>gdp_capita</td>\n",
       "<td>Returns the Gross Domestic Product per person for a country (unit: USD).</td>\n",
       "<td>Worldbank</td>\n",
       "</tr>\n",
       "<tr>\n",
       "<td>gini</td>\n",
       "<td>Returns the Gini coefficient. The Gini coefficient states how uniformly assets are distributed in a country (scale: 0-100; 0 = equal distribution. 100 = unequal distribution)</td>\n",
       "<td>Worldbank</td>\n",
       "</tr>\n",
       "<tr>\n",
       "<td>happiness_index</td>\n",
       "<td>Returns the values of the <a href=\"http://worldhappiness.report/\" target=\"_blank\">world happiness survey</a> of the UNSDSN. The higher the value, the happier the country.</td>\n",
       "<td>UNSDSN</td>\n",
       "</tr>\n",
       "<tr>\n",
       "<td>hdi</td>\n",
       "<td>Returns the Human Development Index (HDI). It is published by the United Nations and combines several parameters (e.g. life expectancy or GDP). Scale: 0-1; 0 = low development. 1 = high development.</td>\n",
       "<td>UN-Data</td>\n",
       "</tr>\n",
       "<tr>\n",
       "<td>health_expenditure</td>\n",
       "<td>Returns the public expenditure on health (in % of the GDP for a country).</td>\n",
       "<td>Worldbank</td>\n",
       "</tr>\n",
       "<tr>\n",
       "<td>hiv_prevalence</td>\n",
       "<td>The percentage of people ages 15-49 who are infected with HIV</td>\n",
       "<td>Worldbank</td>\n",
       "</tr>\n",
       "<tr>\n",
       "<td>inflation</td>\n",
       "<td>Returns the annual change of consumer prices (unit: %).</td>\n",
       "<td>Worldbank</td>\n",
       "</tr>\n",
       "<tr>\n",
       "<td>internetuser</td>\n",
       "<td>Returns the total number of people that are actively using the internet.</td>\n",
       "<td>Worldbank</td>\n",
       "</tr>\n",
       "<tr>\n",
       "<td>internetusers_percent</td>\n",
       "<td>Returns the percentage of people, that are actively using the internet for a country.</td>\n",
       "<td>Worldbank</td>\n",
       "</tr>\n",
       "<tr>\n",
       "<td>jobless_rate</td>\n",
       "<td>The number of unemployed people in relation to the labor force for a country.</td>\n",
       "<td>Worldbank</td>\n",
       "</tr>\n",
       "<tr>\n",
       "<td>life_expectancy</td>\n",
       "<td>The average number of years a person will live (at birth).</td>\n",
       "<td>UN-Data</td>\n",
       "</tr>\n",
       "<tr>\n",
       "<td>literacy_rate</td>\n",
       "<td>Returns the percentage of people, that have the ability to read and write by the age of 15.</td>\n",
       "<td>Worldbank</td>\n",
       "</tr>\n",
       "<tr>\n",
       "<td>medianwage</td>\n",
       "<td>Returns the median monthly wage before taxes including public benefits (e.g child allowance); unit: USD.</td>\n",
       "<td>Worldbank</td>\n",
       "</tr>\n",
       "<tr>\n",
       "<td>median_age</td>\n",
       "<td>The median age of the population.</td>\n",
       "<td>UN-Data</td>\n",
       "</tr>\n",
       "<tr>\n",
       "<td>migration</td>\n",
       "<td>Returns the total number of people that emigrated or immigrated.</td>\n",
       "<td>UN-Data</td>\n",
       "</tr>\n",
       "<tr>\n",
       "<td>migration_rate</td>\n",
       "<td>Returns the net migration rate (per 1,000 population).</td>\n",
       "<td>UN-Data</td>\n",
       "</tr>\n",
       "<tr>\n",
       "<td>military_expenditure</td>\n",
       "<td>Returns the military budget (in % of the GDP for a country).</td>\n",
       "<td>Worldbank</td>\n",
       "</tr>\n",
       "<tr>\n",
       "<td>mobile_cellular_subscriptions</td>\n",
       "<td>Returns the number of mobile phone subscriptions (per 100 population)</td>\n",
       "<td>Worldbank</td>\n",
       "</tr>\n",
       "<tr>\n",
       "<td>murder_rate</td>\n",
       "<td>Returns the number of homicides (per 100,000 population).</td>\n",
       "<td>UNODC</td>\n",
       "</tr>\n",
       "<tr>\n",
       "<td>new_businesses_registered</td>\n",
       "<td>Number of new limited liability corporations registered in the calendar year.</td>\n",
       "<td>Worldbank</td>\n",
       "</tr>\n",
       "<tr>\n",
       "<td>olympicsummergames_goldmedals</td>\n",
       "<td>Returns the number of gold medals a country won at the Olympic Games.</td>\n",
       "<td>IOC</td>\n",
       "</tr>\n",
       "<tr>\n",
       "<td>olympicsummergames_silvermedals</td>\n",
       "<td>Returns the number of silver medals a country won at the Olympic Games.</td>\n",
       "<td>IOC</td>\n",
       "</tr>\n",
       "<tr>\n",
       "<td>olympicsummergames_bronzemedals</td>\n",
       "<td>Returns the number of bronze medals a country won at the Olympic Games.</td>\n",
       "<td>IOC</td>\n",
       "</tr>\n",
       "<tr>\n",
       "<td>population</td>\n",
       "<td>Returns the population of a country.</td>\n",
       "<td>UN-Data</td>\n",
       "</tr>\n",
       "<tr>\n",
       "<td>population_0_14</td>\n",
       "<td>Returns the percentage of people between the age 0 and 14.</td>\n",
       "<td>Worldbank</td>\n",
       "</tr>\n",
       "<tr>\n",
       "<td>population_15_64</td>\n",
       "<td>Returns the percentage of of people between the age 15 and 64.</td>\n",
       "<td>Worldbank</td>\n",
       "</tr>\n",
       "<tr>\n",
       "<td>population_over_64</td>\n",
       "<td>Returns the percentage of people who are older than 64 years.</td>\n",
       "<td>Worldbank</td>\n",
       "</tr>\n",
       "<tr>\n",
       "<td>pressfreedom_index</td>\n",
       "<td>Returns an index derived from \"Reporters without borders\" that reflects how free the press of a country is. The lower the value, the better the freedom of press.</td>\n",
       "<td>www.rsf.org</td>\n",
       "</tr>\n",
       "<tr>\n",
       "<td>research_expenditure</td>\n",
       "<td>Returns the public expenditures on scientific research (in % of the GDP for a country).</td>\n",
       "<td>Worldbank</td>\n",
       "</tr>\n",
       "<tr>\n",
       "<td>scientific_journal_articles</td>\n",
       "<td>The number of scientific publications in medical or natural sciences.</td>\n",
       "<td>Worldbank</td>\n",
       "</tr>\n",
       "<tr>\n",
       "<td>size</td>\n",
       "<td>Returns the area of a country (unit: km²).</td>\n",
       "<td>UN-Data</td>\n",
       "</tr>\n",
       "<tr>\n",
       "<td>tax_revenue</td>\n",
       "<td>Compulsory transfers to the central government for public purposes (in % of the GDP for a country).</td>\n",
       "<td>Worldbank</td>\n",
       "</tr>\n",
       "<tr>\n",
       "<td>tax_revenue_total</td>\n",
       "<td>Compulsory transfers to the central government for public purposes (in US-Dollar).</td>\n",
       "<td>Worldbank</td>\n",
       "</tr>\n",
       "<tr>\n",
       "<td>tourist_arrivals</td>\n",
       "<td>The number of foreign citizens that stayed at least one night in the country. This includes hotel stays, transfers, conference visits, etc.</td>\n",
       "<td>UN-Data</td>\n",
       "</tr>\n",
       "<tr>\n",
       "<td>tourism_expenditure</td>\n",
       "<td>The amount of expenditures dedicated for tourism (in % of the GDP for a country).</td>\n",
       "<td>UN-Data</td>\n",
       "</tr>\n",
       "<tr>\n",
       "<td>urban_population</td>\n",
       "<td>Returns the percentage of people who live in a city.</td>\n",
       "<td>Worldbank</td>\n",
       "</tr>\n",
       "</tbody></table>"
      ],
      "text/plain": [
       "<IPython.core.display.HTML object>"
      ]
     },
     "execution_count": 165,
     "metadata": {},
     "output_type": "execute_result"
    }
   ],
   "source": [
    "from bs4 import BeautifulSoup\n",
    "from IPython.core.display import HTML\n",
    "\n",
    "page = requests.get(\"http://inqubu.com/blog/inqstats-open-api-published-to-get-demographic-data\")\n",
    "soup = BeautifulSoup(page.text, 'html.parser')\n",
    "table_html = str(soup.findAll('table')[1])\n",
    "\n",
    "#Beware of encodings with non-unicode text!\n",
    "table_html = unicode(table_html, 'utf-8')\n",
    "\n",
    "HTML(table_html)"
   ]
  },
  {
   "cell_type": "markdown",
   "metadata": {},
   "source": [
    "Now that we know what we can work with, let's explore."
   ]
  },
  {
   "cell_type": "code",
   "execution_count": 193,
   "metadata": {
    "collapsed": false
   },
   "outputs": [
    {
     "data": {
      "image/png": "[encoded data removed]",
      "text/plain": [
       "<matplotlib.figure.Figure at 0x11e9c27d0>"
      ]
     },
     "metadata": {},
     "output_type": "display_data"
    }
   ],
   "source": [
    "data1 = \"internetusers_percent\"\n",
    "data2 = \"median_age\"\n",
    "year = 2013\n",
    "df = comp_df(year, *[data1, data2])\n",
    "get_graph(data1, data2, df, year)"
   ]
  },
  {
   "cell_type": "markdown",
   "metadata": {},
   "source": [
    "Looks like we have found a relation between the percent of the country that users internet (`internetusers_percent`) and median age (`median_age`). Let's use linear regression to try and fit a model:"
   ]
  },
  {
   "cell_type": "code",
   "execution_count": 194,
   "metadata": {
    "collapsed": false
   },
   "outputs": [
    {
     "data": {
      "text/plain": [
       "<matplotlib.axes._subplots.AxesSubplot at 0x11eda5e10>"
      ]
     },
     "execution_count": 194,
     "metadata": {},
     "output_type": "execute_result"
    },
    {
     "data": {
      "image/png": "[encoded data removed]",
      "text/plain": [
       "<matplotlib.figure.Figure at 0x11edd6710>"
      ]
     },
     "metadata": {},
     "output_type": "display_data"
    }
   ],
   "source": [
    "get_graph(data1, data2, df, year)\n",
    "\n",
    "# automatic linear regression fit\n",
    "sns.regplot(y=data2, x=data1, data=df, fit_reg = True)"
   ]
  },
  {
   "cell_type": "markdown",
   "metadata": {},
   "source": [
    "### Fitting Linear Regression Using `statsmodels`\n",
    "\n",
    "The `statsmodels` library offers statistical computing and data analysis tools. These tools include linear regression, discrete choice models, generalized/robust linear models, datasets for examples, easy integration with Pandas and NumPy, and much more."
   ]
  },
  {
   "cell_type": "code",
   "execution_count": 178,
   "metadata": {
    "collapsed": true
   },
   "outputs": [],
   "source": [
    "# Import regression modules\n",
    "# ols - stands for Ordinary Least Squares\n",
    "import statsmodels.api as sm\n",
    "from statsmodels.formula.api import ols"
   ]
  },
  {
   "cell_type": "code",
   "execution_count": 195,
   "metadata": {
    "collapsed": false,
    "scrolled": false
   },
   "outputs": [
    {
     "name": "stdout",
     "output_type": "stream",
     "text": [
      "                            OLS Regression Results                            \n",
      "==============================================================================\n",
      "Dep. Variable:             median_age   R-squared:                       0.727\n",
      "Model:                            OLS   Adj. R-squared:                  0.726\n",
      "Method:                 Least Squares   F-statistic:                     501.0\n",
      "Date:                Thu, 09 Feb 2017   Prob (F-statistic):           6.44e-55\n",
      "Time:                        12:59:07   Log-Likelihood:                -556.23\n",
      "No. Observations:                 190   AIC:                             1116.\n",
      "Df Residuals:                     188   BIC:                             1123.\n",
      "Df Model:                           1                                         \n",
      "Covariance Type:            nonrobust                                         \n",
      "=========================================================================================\n",
      "                            coef    std err          t      P>|t|      [95.0% Conf. Int.]\n",
      "-----------------------------------------------------------------------------------------\n",
      "Intercept                18.3020      0.573     31.966      0.000        17.173    19.431\n",
      "internetusers_percent     0.2540      0.011     22.384      0.000         0.232     0.276\n",
      "==============================================================================\n",
      "Omnibus:                        6.116   Durbin-Watson:                   1.961\n",
      "Prob(Omnibus):                  0.047   Jarque-Bera (JB):                5.745\n",
      "Skew:                           0.394   Prob(JB):                       0.0566\n",
      "Kurtosis:                       3.321   Cond. No.                         87.7\n",
      "==============================================================================\n",
      "\n",
      "Warnings:\n",
      "[1] Standard Errors assume that the covariance matrix of the errors is correctly specified.\n"
     ]
    }
   ],
   "source": [
    "# statsmodels works nicely with pandas dataframes\n",
    "data1 = \"internetusers_percent\"\n",
    "data2 = \"median_age\"\n",
    "mod = ols('%s ~ %s' %(data2, data1), df).fit()\n",
    "print mod.summary()"
   ]
  },
  {
   "cell_type": "markdown",
   "metadata": {},
   "source": [
    "### Interpretation\n",
    "\n",
    "The linear relation between these variables has an $R^2$ statistic of 0.727, meaning 72.7% of the variation in the `median_age` data can be explained by our exploratory variable `internetusers_percent`. Further, the coefficient for `median_age` is around 2.86. This means that if we compare country *A* with percent of population using internet of 35% to country *B* with internet usage of 36%, country *B* will have an average 0.254 years higher median age compared to country *A*. Since the `P > |t|` is nearly zero, we have high confidence in this prediction.\n",
    "\n",
    "As the [Harvard CS 109 course](https://github.com/cs109/) helps us understand, the formula used in the `statsmodels` package has formula notation similar to R. That is:\n",
    "\n",
    "`Outcome ~ X1`\n",
    "\n",
    "The data `Outcome` and `X1` typically need to be columns in the Pandas DataFrame you are manipulating. `statsmodels` can also handle increased complexity by running multiple regression models in the form:\n",
    "\n",
    "`Outcome ~ X1 + X2 + X3`\n",
    "\n",
    "The API we are using offers data about `mobile_cellular_subscriptions`. This seems like a factor that could go hand-in-hand with `internetusers_percent`. Let's run a multiple regression model and see if we can get more explanatory power."
   ]
  },
  {
   "cell_type": "code",
   "execution_count": 197,
   "metadata": {
    "collapsed": false
   },
   "outputs": [
    {
     "name": "stdout",
     "output_type": "stream",
     "text": [
      "                            OLS Regression Results                            \n",
      "==============================================================================\n",
      "Dep. Variable:             median_age   R-squared:                       0.727\n",
      "Model:                            OLS   Adj. R-squared:                  0.724\n",
      "Method:                 Least Squares   F-statistic:                     247.3\n",
      "Date:                Thu, 09 Feb 2017   Prob (F-statistic):           4.02e-53\n",
      "Time:                        13:04:22   Log-Likelihood:                -553.68\n",
      "No. Observations:                 189   AIC:                             1113.\n",
      "Df Residuals:                     186   BIC:                             1123.\n",
      "Df Model:                           2                                         \n",
      "Covariance Type:            nonrobust                                         \n",
      "=================================================================================================\n",
      "                                    coef    std err          t      P>|t|      [95.0% Conf. Int.]\n",
      "-------------------------------------------------------------------------------------------------\n",
      "Intercept                        17.9568      0.914     19.637      0.000        16.153    19.761\n",
      "internetusers_percent             0.2505      0.014     18.363      0.000         0.224     0.277\n",
      "mobile_cellular_subscriptions     0.0048      0.010      0.478      0.633        -0.015     0.024\n",
      "==============================================================================\n",
      "Omnibus:                        6.042   Durbin-Watson:                   1.964\n",
      "Prob(Omnibus):                  0.049   Jarque-Bera (JB):                5.667\n",
      "Skew:                           0.386   Prob(JB):                       0.0588\n",
      "Kurtosis:                       3.353   Cond. No.                         326.\n",
      "==============================================================================\n",
      "\n",
      "Warnings:\n",
      "[1] Standard Errors assume that the covariance matrix of the errors is correctly specified.\n"
     ]
    }
   ],
   "source": [
    "outcome = \"median_age\"\n",
    "x1 = \"internetusers_percent\"\n",
    "x2 = \"mobile_cellular_subscriptions\"\n",
    "year = 2013\n",
    "df = comp_df(year, *[outcome, x1, x2])\n",
    "mod = ols('%s ~ %s + %s' %(outcome, x1, x2), df).fit()\n",
    "print mod.summary()"
   ]
  },
  {
   "cell_type": "markdown",
   "metadata": {},
   "source": [
    "However, looking at the results from this analysis, the new variable of `mobile_cellular_subscriptions` does not seem to add explanatory power compared to the original model.\n",
    "\n",
    "## Fitting Linear Regression Model Using `sklearn`\n",
    "\n",
    "Unlike `statsmodels`, `sklearn` uses a Linear Regression object to perform calculations and fetch coefficients and statistics. We will see how to implement this below."
   ]
  },
  {
   "cell_type": "code",
   "execution_count": 198,
   "metadata": {
    "collapsed": true
   },
   "outputs": [],
   "source": [
    "from sklearn.linear_model import LinearRegression"
   ]
  },
  {
   "cell_type": "code",
   "execution_count": 199,
   "metadata": {
    "collapsed": false
   },
   "outputs": [
    {
     "data": {
      "text/plain": [
       "LinearRegression(copy_X=True, fit_intercept=True, n_jobs=1, normalize=False)"
      ]
     },
     "execution_count": 199,
     "metadata": {},
     "output_type": "execute_result"
    }
   ],
   "source": [
    "lr = LinearRegression()\n",
    "lr"
   ]
  },
  {
   "cell_type": "markdown",
   "metadata": {},
   "source": [
    "This object has three main methods:\n",
    "\n",
    "- `lr.fit()` to fit a linear model\n",
    "- `lr.predict()` to predict outcomes using the fitted coefficients\n",
    "- `lr.score()` to get the $R^2$ statistic\n",
    "\n",
    "You can also get other information, such as the estimated coefficients (`lr.coef_`) and the y-intercept (`lr.intercept_`)."
   ]
  },
  {
   "cell_type": "code",
   "execution_count": 206,
   "metadata": {
    "collapsed": true
   },
   "outputs": [],
   "source": [
    "outcome = \"median_age\"\n",
    "x1 = \"internetusers_percent\"\n",
    "x2 = \"mobile_cellular_subscriptions\"\n",
    "x3 = \"murder_rate\"\n",
    "x4 = \"population\"\n",
    "x5 = \"size\"\n",
    "year = 2013\n",
    "df = comp_df(year, *[outcome, x1, x2, x3, x4, x5])\n",
    "X = df.drop(outcome, axis=1)"
   ]
  },
  {
   "cell_type": "code",
   "execution_count": 207,
   "metadata": {
    "collapsed": false
   },
   "outputs": [
    {
     "data": {
      "text/plain": [
       "LinearRegression(copy_X=True, fit_intercept=True, n_jobs=1, normalize=False)"
      ]
     },
     "execution_count": 207,
     "metadata": {},
     "output_type": "execute_result"
    }
   ],
   "source": [
    "lr.fit(X, df[outcome])"
   ]
  },
  {
   "cell_type": "code",
   "execution_count": 217,
   "metadata": {
    "collapsed": false
   },
   "outputs": [
    {
     "name": "stdout",
     "output_type": "stream",
     "text": [
      " Estimated intercept coefficient: 17.7882717912\n",
      "Number of coefficients: 5\n",
      "R-square score: 0.698937390035\n"
     ]
    }
   ],
   "source": [
    "print 'Estimated intercept coefficient:', lr.intercept_\n",
    "print 'Number of coefficients:', len(lr.coef_)\n",
    "print 'R-square score:', lr.score(X, df[outcome])"
   ]
  },
  {
   "cell_type": "code",
   "execution_count": 210,
   "metadata": {
    "collapsed": false
   },
   "outputs": [
    {
     "data": {
      "text/html": [
       "<div>\n",
       "<table border=\"1\" class=\"dataframe\">\n",
       "  <thead>\n",
       "    <tr style=\"text-align: right;\">\n",
       "      <th></th>\n",
       "      <th>features</th>\n",
       "      <th>estimatedCoefficients</th>\n",
       "    </tr>\n",
       "  </thead>\n",
       "  <tbody>\n",
       "    <tr>\n",
       "      <th>0</th>\n",
       "      <td>internetusers_percent</td>\n",
       "      <td>2.184646e-01</td>\n",
       "    </tr>\n",
       "    <tr>\n",
       "      <th>1</th>\n",
       "      <td>mobile_cellular_subscriptions</td>\n",
       "      <td>3.520136e-02</td>\n",
       "    </tr>\n",
       "    <tr>\n",
       "      <th>2</th>\n",
       "      <td>murder_rate</td>\n",
       "      <td>-1.076971e-01</td>\n",
       "    </tr>\n",
       "    <tr>\n",
       "      <th>3</th>\n",
       "      <td>population</td>\n",
       "      <td>3.111337e-09</td>\n",
       "    </tr>\n",
       "    <tr>\n",
       "      <th>4</th>\n",
       "      <td>size</td>\n",
       "      <td>-4.101687e-08</td>\n",
       "    </tr>\n",
       "  </tbody>\n",
       "</table>\n",
       "</div>"
      ],
      "text/plain": [
       "                        features  estimatedCoefficients\n",
       "0          internetusers_percent           2.184646e-01\n",
       "1  mobile_cellular_subscriptions           3.520136e-02\n",
       "2                    murder_rate          -1.076971e-01\n",
       "3                     population           3.111337e-09\n",
       "4                           size          -4.101687e-08"
      ]
     },
     "execution_count": 210,
     "metadata": {},
     "output_type": "execute_result"
    }
   ],
   "source": [
    "pd.DataFrame(zip(X.columns, lr.coef_), columns = ['features', 'estimatedCoefficients'])"
   ]
  },
  {
   "cell_type": "markdown",
   "metadata": {},
   "source": [
    "We have used `sklearn` to perform a multiple regression model with 5 coefficients. The table above shows the estimates for each. We can use these to predict median ages (`median_age`) for countries, given these 5 parameters. That is, we have estimated coefficients $\\beta_0, \\beta_1, \\beta_2, ..., \\beta_5$ and we can predict $\\hat{y_i}$, the median age for country *i* with the following equation:\n",
    "\n",
    "$$ \\hat{y_i} = \\beta_0 + \\beta_1 X_1 + ... + \\beta_5 X_5 $$"
   ]
  },
  {
   "cell_type": "code",
   "execution_count": 211,
   "metadata": {
    "collapsed": false
   },
   "outputs": [
    {
     "data": {
      "text/plain": [
       "array([ 33.95189487,  24.8277328 ,  40.84689802,  30.6912691 ,  34.17785645])"
      ]
     },
     "execution_count": 211,
     "metadata": {},
     "output_type": "execute_result"
    }
   ],
   "source": [
    "# Retrieve the first few predicted values for median age\n",
    "lr.predict(X)[0:5]"
   ]
  },
  {
   "cell_type": "code",
   "execution_count": 219,
   "metadata": {
    "collapsed": false
   },
   "outputs": [
    {
     "data": {
      "image/png": "[encoded data removed]",
      "text/plain": [
       "<matplotlib.figure.Figure at 0x11f15bfd0>"
      ]
     },
     "metadata": {},
     "output_type": "display_data"
    },
    {
     "data": {
      "image/png": "[encoded data removed]",
      "text/plain": [
       "<matplotlib.figure.Figure at 0x11f868310>"
      ]
     },
     "metadata": {},
     "output_type": "display_data"
    }
   ],
   "source": [
    "# Plot predicted median age frequencies\n",
    "plt.hist(lr.predict(X))\n",
    "plt.title('Predicted Median Age (Fitted Values): $\\hat{Y}_i$')\n",
    "plt.xlabel('Median Age')\n",
    "plt.ylabel('Frequency')\n",
    "plt.show()\n",
    "\n",
    "# Plot actual median age frequencies\n",
    "plt.hist(df[outcome])\n",
    "plt.title('Actual Median Age Frequencies')\n",
    "plt.xlabel('Median Age')\n",
    "plt.ylabel('Frequency')\n",
    "plt.show()"
   ]
  },
  {
   "cell_type": "code",
   "execution_count": 220,
   "metadata": {
    "collapsed": false
   },
   "outputs": [
    {
     "data": {
      "text/plain": [
       "<matplotlib.text.Text at 0x11ea2a6d0>"
      ]
     },
     "execution_count": 220,
     "metadata": {},
     "output_type": "execute_result"
    },
    {
     "data": {
      "image/png": "[encoded data removed]",
      "text/plain": [
       "<matplotlib.figure.Figure at 0x11f6b7310>"
      ]
     },
     "metadata": {},
     "output_type": "display_data"
    }
   ],
   "source": [
    "# Plot a scatter plot of the predicted vs actual values\n",
    "plt.scatter(df[outcome], lr.predict(X), alpha=0.8)\n",
    "plt.xlabel('Actual Median Ages: $y$')\n",
    "plt.ylabel('Pedicted Median Ages: $\\hat{y}$')\n",
    "plt.title('Actual vs predicted values: Median Age')"
   ]
  },
  {
   "cell_type": "markdown",
   "metadata": {},
   "source": [
    "### Calculating Error\n",
    "\n",
    "We can use Mean Squared Error (MSE) to determine a standard for our overall error from this model. MSE uses the squared residual values, i.e., the square of the difference between actual and predicted values. By squaring the values, we normalize the sign (and slightly skew the actual error). We can see this process for the regression performed above."
   ]
  },
  {
   "cell_type": "code",
   "execution_count": 221,
   "metadata": {
    "collapsed": false
   },
   "outputs": [
    {
     "name": "stdout",
     "output_type": "stream",
     "text": [
      "1521.28206356\n"
     ]
    }
   ],
   "source": [
    "# Residual sum of squares\n",
    "print np.sum((df[outcome]-lr.predict(X))**2)"
   ]
  },
  {
   "cell_type": "code",
   "execution_count": 222,
   "metadata": {
    "collapsed": false
   },
   "outputs": [
    {
     "name": "stdout",
     "output_type": "stream",
     "text": [
      "18.328699561\n"
     ]
    }
   ],
   "source": [
    "# MSE\n",
    "print np.mean((df[outcome]-lr.predict(X))**2)"
   ]
  },
  {
   "cell_type": "markdown",
   "metadata": {},
   "source": [
    "This measure gives us something to compare models against. Say we want to see which is better at predicting `median_age`, whether it is `population` or `murder_rate`. Then we can perform linear regression and calculate the MSE to determine which model is a better predictor."
   ]
  },
  {
   "cell_type": "code",
   "execution_count": 225,
   "metadata": {
    "collapsed": false
   },
   "outputs": [
    {
     "data": {
      "text/plain": [
       "LinearRegression(copy_X=True, fit_intercept=True, n_jobs=1, normalize=False)"
      ]
     },
     "execution_count": 225,
     "metadata": {},
     "output_type": "execute_result"
    },
    {
     "name": "stdout",
     "output_type": "stream",
     "text": [
      "\n"
     ]
    }
   ],
   "source": [
    "# Estimate models\n",
    "outcome = 'median_age'\n",
    "mr = 'murder_rate'\n",
    "pop = 'population'\n",
    "year = 2013\n",
    "\n",
    "df_mr = comp_df(year, *[outcome, mr])\n",
    "X_mr = df_mr.drop(outcome, axis=1)\n",
    "df_pop = comp_df(year, *[outcome, pop])\n",
    "X_pop = df_pop.drop(outcome, axis=1)\n",
    "\n",
    "lr_mr = LinearRegression()\n",
    "lr_mr.fit(X_mr, df_mr[outcome])\n",
    "lr_pop = LinearRegression()\n",
    "lr_pop.fit(X_pop, df_pop[outcome])"
   ]
  },
  {
   "cell_type": "code",
   "execution_count": 226,
   "metadata": {
    "collapsed": false
   },
   "outputs": [
    {
     "name": "stdout",
     "output_type": "stream",
     "text": [
      "MSE for Murder_Rate: 49.9677892906\n",
      "MSE for Population: 74.4678982605\n"
     ]
    }
   ],
   "source": [
    "print \"MSE for Murder_Rate:\", np.mean((df_mr[outcome]-lr_mr.predict(X_mr))**2)\n",
    "print \"MSE for Population:\", np.mean((df_pop[outcome]-lr_pop.predict(X_pop))**2)"
   ]
  },
  {
   "cell_type": "markdown",
   "metadata": {},
   "source": [
    "We can see that in this case `murder_rate` is a better predictor for `median_age`, regardless whether `murder_rate` is *actually* a good predictor (since this is just comparison).\n",
    "\n",
    "## Cross Validation\n",
    "---\n",
    "\n",
    "Consider now we want to actually know whether `murder_rate` is a good predictor. However, this would require us to have training data (to estimate the coefficients) and test data (to quantify our level of predictive power). Therefore we should split our available data into a training set and test set. This gives rise to *cross-validation*.\n",
    "\n",
    "But how should we perform these splits? We can manually split the data...or we can take advantage of the `sklearn.cross_validation` library and use the `train_test_split` function."
   ]
  },
  {
   "cell_type": "code",
   "execution_count": 227,
   "metadata": {
    "collapsed": false
   },
   "outputs": [
    {
     "name": "stderr",
     "output_type": "stream",
     "text": [
      "/Users/michaelsmith/anaconda/envs/python2/lib/python2.7/site-packages/sklearn/cross_validation.py:44: DeprecationWarning: This module was deprecated in version 0.18 in favor of the model_selection module into which all the refactored classes and functions are moved. Also note that the interface of the new CV iterators are different from that of this module. This module will be removed in 0.20.\n",
      "  \"This module will be removed in 0.20.\", DeprecationWarning)\n"
     ]
    }
   ],
   "source": [
    "from sklearn import cross_validation"
   ]
  },
  {
   "cell_type": "code",
   "execution_count": 229,
   "metadata": {
    "collapsed": false
   },
   "outputs": [
    {
     "name": "stdout",
     "output_type": "stream",
     "text": [
      "(56, 1)\n",
      "(56,)\n",
      "(28, 1)\n",
      "(28,)\n"
     ]
    }
   ],
   "source": [
    "X_train, X_test, Y_train, Y_test = cross_validation.train_test_split(X_mr, df_mr[outcome], test_size=0.33, random_state=5)\n",
    "print X_train.shape\n",
    "print Y_train.shape\n",
    "print X_test.shape\n",
    "print Y_test.shape"
   ]
  },
  {
   "cell_type": "code",
   "execution_count": 233,
   "metadata": {
    "collapsed": false
   },
   "outputs": [
    {
     "name": "stdout",
     "output_type": "stream",
     "text": [
      "\n"
     ]
    }
   ],
   "source": [
    "# Train the model using this new training set\n",
    "lr = LinearRegression()\n",
    "lr.fit(X_train, Y_train)\n",
    "pred_train = lr.predict(X_train)\n",
    "pred_test = lr.predict(X_test)"
   ]
  },
  {
   "cell_type": "code",
   "execution_count": 234,
   "metadata": {
    "collapsed": false
   },
   "outputs": [
    {
     "name": "stdout",
     "output_type": "stream",
     "text": [
      "MSE for training data: 49.5470108508\n",
      "MSE for test data: 52.0962980332\n"
     ]
    }
   ],
   "source": [
    "# MSE using all data from training\n",
    "print \"MSE for training data:\", np.mean((Y_train-pred_train)**2)\n",
    "# MSE using test data sample\n",
    "print \"MSE for test data:\", np.mean((Y_test-pred_test)**2)"
   ]
  },
  {
   "cell_type": "code",
   "execution_count": null,
   "metadata": {
    "collapsed": true
   },
   "outputs": [],
   "source": []
  }
 ],
 "metadata": {
  "kernelspec": {
   "display_name": "Python 2",
   "language": "python",
   "name": "python2"
  },
  "language_info": {
   "codemirror_mode": {
    "name": "ipython",
    "version": 2
   },
   "file_extension": ".py",
   "mimetype": "text/x-python",
   "name": "python",
   "nbconvert_exporter": "python",
   "pygments_lexer": "ipython2",
   "version": "2.7.13"
  }
 },
 "nbformat": 4,
 "nbformat_minor": 2
}
