{
 "cells": [
  {
   "cell_type": "markdown",
   "metadata": {},
   "source": [
    "# Dartmouth Academic Grading\n",
    "---\n",
    "\n",
    "We want to offer a general or specific view for the user. That is, if someone wants to take every department into consideration, we don't care about the course numbers. However, if we are considering individual departments, compare course numbers.\n",
    "\n",
    "What the choices should be:\n",
    "\n",
    "- *Show all departments*\n",
    "    - x-axis : department\n",
    "- *Individual departments*\n",
    "    - x-axis : course number"
   ]
  },
  {
   "cell_type": "code",
   "execution_count": 1,
   "metadata": {
    "collapsed": true
   },
   "outputs": [],
   "source": [
    "%matplotlib inline\n",
    "\n",
    "import pandas as pd\n",
    "import numpy as np\n",
    "import matplotlib as mpl\n",
    "import matplotlib.pyplot as plt\n",
    "import requests\n",
    "from bs4 import BeautifulSoup #HTML python parsing library\n",
    "import re # used for multiple delimiter splits"
   ]
  },
  {
   "cell_type": "code",
   "execution_count": 2,
   "metadata": {
    "collapsed": false
   },
   "outputs": [],
   "source": [
    "def get_table(term):\n",
    "    \"\"\"\n",
    "    PARAMETERS\n",
    "    ----------\n",
    "    term : String\n",
    "        Specifies the academic quarter at Dartmouth to analyze publically accesible grade\n",
    "        information (i.e., [\"14X\", \"14F\", \"15W\", \"15S\", \"15X\", \"15F\", \"16W\", \"16S\", \"16W\",\n",
    "        \"16F\"])\n",
    "        \n",
    "    RETURNS\n",
    "    -------\n",
    "    Pandas DataFrame:\n",
    "        Contains COURSE (Courses), ENRL (Enrollment), and MEDIAN (median grade in course) for\n",
    "        specified term\n",
    "        \n",
    "    REQUIREMENTS\n",
    "    ------------\n",
    "    Pandas, Requests, BeautifulSoup\n",
    "    \"\"\"\n",
    "    # Definitions:\n",
    "    GRADE_NUM = {\"A\":4.0, \"A /A-\": 3.83, \"A-\":3.67, \"A-/B+\":3.5, \"B+\":3.33,\n",
    "            \"B+/B\":3.17, \"B\":3.0, \"B /B-\":2.83, \"B-\":2.67, \"B-/C+\":2.5, \"C+\":2.33,\n",
    "            \"C+/C\":2.17, \"C\":2.0, \"C /C-\":1.83, \"C-\":1.67, \"C-/D+\":1.5, \"D+\":1.33,\n",
    "            \"D+/D\":1.17, \"D\":1.0, \"E\":0.0}\n",
    "    \n",
    "    # Lambda expressions:\n",
    "    rep_nl = lambda x: x.replace(\"\\n\", \" \")\n",
    "    numeric = lambda x: x if x not in GRADE_NUM else GRADE_NUM[x]\n",
    "    \n",
    "    # First set up BeautifulSoup to help parse the HTML content\n",
    "    url = \"http://www.dartmouth.edu/~reg/transcript/medians/\" + term + \".html\"\n",
    "    page = requests.get(url)\n",
    "    \n",
    "    if not page.ok:\n",
    "        print \"ERROR: Please choose a valid term\"\n",
    "        return None\n",
    "    \n",
    "    s = BeautifulSoup(page.text, 'html.parser')\n",
    "    \n",
    "    # Extract Rows, Columns, and Values\n",
    "    rows = [r for r in s.find(\"table\").find_all(\"tr\")]\n",
    "    cols = [rep_nl(col.get_text()) for col in rows[0].find_all(\"td\") if col.get_text()]\n",
    "    values = [value.get_text() for row in rows[1:] for value in row.find_all(\"td\")]\n",
    "    stacked_values = zip(*[values[i::4] for i in range(len(cols))])\n",
    "    \n",
    "    # Create the DataFrame\n",
    "    df = pd.DataFrame(stacked_values, columns = cols, index = np.arange(len(stacked_values)))\n",
    "    \n",
    "    # Clean up the DataFrame\n",
    "    grades = df.drop('TERM', axis=1)\n",
    "    grades.ENRL = [int(enrl) for enrl in grades['ENRL']]\n",
    "    grades.MEDIAN = [numeric(grade) for grade in grades['MEDIAN']]\n",
    "    \n",
    "    return grades\n"
   ]
  },
  {
   "cell_type": "code",
   "execution_count": 3,
   "metadata": {
    "collapsed": true
   },
   "outputs": [],
   "source": [
    "def get_dept(table):\n",
    "    \"\"\"\n",
    "    PARAMETERS\n",
    "    ----------\n",
    "    table: DataFrame\n",
    "        Contains the 'COURSE', 'ENRL', and 'MEDIAN' info for any academic term\n",
    "    \n",
    "    RETURNS\n",
    "    -------\n",
    "    DataFrame with 'DEPT' information that align with the 'COURSE' info from the initial table\n",
    "    \n",
    "    \"\"\"\n",
    "    depts = table['COURSE'].str[:4].to_frame()\n",
    "    depts.columns = ['DEPT']\n",
    "    return depts\n"
   ]
  },
  {
   "cell_type": "code",
   "execution_count": 4,
   "metadata": {
    "collapsed": true
   },
   "outputs": [],
   "source": [
    "def get_course_nums(table):\n",
    "    \"\"\"\n",
    "    PARAMETERS\n",
    "    ----------\n",
    "    table: DataFrame\n",
    "        Contains the `COURSE`, `ENRL`, and `MEDIAN` information for any academic term\n",
    "    \n",
    "    RETURNS\n",
    "    -------\n",
    "    Dataframe containing course numbers aligned with their corresponding course titles from\n",
    "    the initial DataFrame `df`\n",
    "    \n",
    "    \"\"\"\n",
    "    nums_dirty = table['COURSE'].str[5:].to_frame()\n",
    "    nums_list = [re.split('[- .]',str(nums_dirty.iloc[i]['COURSE']))[0] \n",
    "                 for i in range(len(nums_dirty.index))]\n",
    "    nums_df = pd.DataFrame(nums_list, columns=['NUM'])\n",
    "    nums_df.NUM = [int(num) for num in nums_df.NUM]\n",
    "    return nums_df\n"
   ]
  },
  {
   "cell_type": "code",
   "execution_count": 5,
   "metadata": {
    "collapsed": true
   },
   "outputs": [],
   "source": [
    "def get_full_df():\n",
    "    \n",
    "    def get_term_df(term):\n",
    "        \"\"\"\n",
    "        PARAMETERS\n",
    "        ----------\n",
    "        term: String\n",
    "            Specifies the academic term to retrieve data for\n",
    "    \n",
    "        RETURNS\n",
    "        -------\n",
    "        DataFrame containing `DEPT`, `NUM`, `ENRL`, and `MEDIAN`; that is, the DataFrame contains\n",
    "        information about the department, class number, enrolled students, and median grade for\n",
    "        each class during the specified `term`\n",
    "        \n",
    "        \"\"\"\n",
    "        table = get_table(term)\n",
    "        depts = get_dept(table)\n",
    "        course_nums = get_course_nums(table)\n",
    "        df = table.drop('COURSE', axis=1)\n",
    "        df = pd.concat([depts, course_nums, df], axis=1)\n",
    "        return df\n",
    "    \n",
    "    listed_terms = [\"14X\", \"14F\", \"15W\", \"15S\", \"15X\", \"15F\", \"16W\", \"16S\", \"16X\", \"16F\"]\n",
    "    full_df = get_term_df(listed_terms[0])\n",
    "    \n",
    "    for term in listed_terms[1:]:\n",
    "        df = get_term_df(term)\n",
    "        full_df = pd.concat([full_df, df])\n",
    "    \n",
    "    return full_df\n"
   ]
  },
  {
   "cell_type": "code",
   "execution_count": 6,
   "metadata": {
    "collapsed": false
   },
   "outputs": [],
   "source": [
    "def dept_fig(df, dept):\n",
    "    \"\"\"\n",
    "    \"\"\"\n",
    "    \n",
    "    fig, ax = plt.subplots(figsize=(10,6))\n",
    "    n = xrange(len(df.loc[dept].index))\n",
    "    ax.set_xlabel('Course Nums')\n",
    "    ax.set_ylabel('Median Grades')\n",
    "    ax.set_title('Average Median Grades for %s Dept' %dept)\n",
    "    ax.xaxis.set_ticks(np.arange(len(df.loc[dept].index)))\n",
    "    \n",
    "    a = df.loc[dept].index.tolist()\n",
    "    ax.set_xticklabels(a, rotation='vertical')\n",
    "    ax.bar(n, df.loc[dept]['MEDIAN'], alpha=0.5, align='center')\n",
    "    \n",
    "    plt.close()\n",
    "    \n",
    "    return fig\n"
   ]
  },
  {
   "cell_type": "code",
   "execution_count": 7,
   "metadata": {
    "collapsed": false
   },
   "outputs": [],
   "source": [
    "from ipywidgets import interact, interactive, fixed\n",
    "import ipywidgets as widgets\n",
    "\n",
    "df = get_full_df()\n",
    "depts_df = df.groupby(['DEPT']).count()\n",
    "depts = depts_df.index.tolist()\n",
    "df = df.groupby(['DEPT', 'NUM']).agg(np.mean)"
   ]
  },
  {
   "cell_type": "code",
   "execution_count": 8,
   "metadata": {
    "collapsed": false
   },
   "outputs": [],
   "source": [
    "i = interactive(dept_fig, df=fixed(df), dept=depts)"
   ]
  },
  {
   "cell_type": "code",
   "execution_count": 9,
   "metadata": {
    "collapsed": false
   },
   "outputs": [
    {
     "data": {
      "image/png": "[encoded data removed]",
      "text/html": [
       "<img src=data:image/png;base64,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 class=\"jupyter-widget\">\n",
       "<script type=\"application/vnd.jupyter-embedded-widgets\">[{},{\"_options_labels\":[\"AAAS\",\"AMEL\",\"AMES\",\"ANTH\",\"ARAB\",\"ARTH\",\"ASTR\",\"BIOL\",\"CHEM\",\"CHIN\",\"CLST\",\"COCO\",\"COGS\",\"COLT\",\"COSC\",\"EARS\",\"ECON\",\"EDUC\",\"ENGL\",\"ENGS\",\"ENVS\",\"FILM\",\"FREN\",\"FRIT\",\"GEOG\",\"GERM\",\"GOVT\",\"GRK \",\"HEBR\",\"HIST\",\"HUM \",\"INTS\",\"ITAL\",\"JAPN\",\"JWST\",\"LACS\",\"LAT \",\"LATS\",\"LING\",\"M&SS\",\"MALS\",\"MATH\",\"MUS \",\"NAS \",\"PBPL\",\"PHIL\",\"PHYS\",\"PORT\",\"PSYC\",\"QBS \",\"QSS \",\"REL \",\"RUSS\",\"SART\",\"SOCY\",\"SPAN\",\"SPEE\",\"THEA\",\"TUCK\",\"WGSS\",\"WGST\",\"WRIT\"],\"layout\":\"IPY_MODEL_221c7001adf7497aa9c1dc3d6561764d\",\"description\":\"dept\",\"value\":\"AAAS\"},{},{\"children\":[\"IPY_MODEL_de28a5b2832f428d8c397f296f25ea0a\"],\"layout\":\"IPY_MODEL_da095b0f5ef745e08f3f950db12e730c\",\"_dom_classes\":[\"widget-interact\"]}]</script>"
      ]
     },
     "metadata": {
      "isWidgetSnapshot": true
     },
     "output_type": "display_data"
    },
    {
     "data": {
      "image/png": "[encoded data removed]",
      "text/plain": [
       "<matplotlib.figure.Figure at 0x107d6a050>"
      ]
     },
     "metadata": {},
     "output_type": "display_data"
    }
   ],
   "source": [
    "from IPython.display import display\n",
    "\n",
    "display(i)"
   ]
  },
  {
   "cell_type": "code",
   "execution_count": null,
   "metadata": {
    "collapsed": true
   },
   "outputs": [],
   "source": []
  }
 ],
 "metadata": {
  "kernelspec": {
   "display_name": "Python 2",
   "language": "python",
   "name": "python2"
  },
  "language_info": {
   "codemirror_mode": {
    "name": "ipython",
    "version": 2
   },
   "file_extension": ".py",
   "mimetype": "text/x-python",
   "name": "python",
   "nbconvert_exporter": "python",
   "pygments_lexer": "ipython2",
   "version": "2.7.13"
  },
  "widgets": {
   "state": {
    "fe696763ee49420fad94d43adece7720": {
     "views": [
      {
       "cell_index": 9
      }
     ]
    }
   },
   "version": "1.2.0"
  }
 },
 "nbformat": 4,
 "nbformat_minor": 2
}
