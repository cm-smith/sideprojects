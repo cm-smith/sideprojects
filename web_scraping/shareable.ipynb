{
 "cells": [
  {
   "cell_type": "markdown",
   "metadata": {},
   "source": [
    "# Dartmouth Academic Grading\n",
    "---\n",
    "\n",
    "We want to offer a general or specific view for the user. That is, if someone wants to take every department into consideration, we don't care about the course numbers. However, if we are considering individual departments, compare course numbers.\n",
    "\n",
    "What the choices should be:\n",
    "\n",
    "- *Show all departments*\n",
    "    - x-axis : department\n",
    "- *Individual departments*\n",
    "    - x-axis : course number"
   ]
  },
  {
   "cell_type": "code",
   "execution_count": 1,
   "metadata": {
    "collapsed": true
   },
   "outputs": [],
   "source": [
    "%matplotlib inline\n",
    "\n",
    "import pandas as pd\n",
    "import numpy as np\n",
    "import matplotlib as mpl\n",
    "import matplotlib.pyplot as plt\n",
    "import requests\n",
    "from bs4 import BeautifulSoup #HTML python parsing library\n",
    "import re # used for multiple delimiter splits"
   ]
  },
  {
   "cell_type": "code",
   "execution_count": 2,
   "metadata": {
    "collapsed": false
   },
   "outputs": [],
   "source": [
    "def get_table(term):\n",
    "    \"\"\"\n",
    "    PARAMETERS\n",
    "    ----------\n",
    "    term : String\n",
    "        Specifies the academic quarter at Dartmouth to analyze publically accesible grade\n",
    "        information (i.e., [\"14X\", \"14F\", \"15W\", \"15S\", \"15X\", \"15F\", \"16W\", \"16S\", \"16W\",\n",
    "        \"16F\"])\n",
    "        \n",
    "    RETURNS\n",
    "    -------\n",
    "    Pandas DataFrame:\n",
    "        Contains COURSE (Courses), ENRL (Enrollment), and MEDIAN (median grade in course) for\n",
    "        specified term\n",
    "        \n",
    "    REQUIREMENTS\n",
    "    ------------\n",
    "    Pandas, Requests, BeautifulSoup\n",
    "    \"\"\"\n",
    "    # Definitions:\n",
    "    GRADE_NUM = {\"A\":4.0, \"A /A-\": 3.83, \"A-\":3.67, \"A-/B+\":3.5, \"B+\":3.33,\n",
    "            \"B+/B\":3.17, \"B\":3.0, \"B /B-\":2.83, \"B-\":2.67, \"B-/C+\":2.5, \"C+\":2.33,\n",
    "            \"C+/C\":2.17, \"C\":2.0, \"C /C-\":1.83, \"C-\":1.67, \"C-/D+\":1.5, \"D+\":1.33,\n",
    "            \"D+/D\":1.17, \"D\":1.0, \"E\":0.0}\n",
    "    \n",
    "    # Lambda expressions:\n",
    "    rep_nl = lambda x: x.replace(\"\\n\", \" \")\n",
    "    numeric = lambda x: x if x not in GRADE_NUM else GRADE_NUM[x]\n",
    "    \n",
    "    # First set up BeautifulSoup to help parse the HTML content\n",
    "    url = \"http://www.dartmouth.edu/~reg/transcript/medians/\" + term + \".html\"\n",
    "    page = requests.get(url)\n",
    "    \n",
    "    if not page.ok:\n",
    "        print \"ERROR: Please choose a valid term\"\n",
    "        return None\n",
    "    \n",
    "    s = BeautifulSoup(page.text, 'html.parser')\n",
    "    \n",
    "    # Extract Rows, Columns, and Values\n",
    "    rows = [r for r in s.find(\"table\").find_all(\"tr\")]\n",
    "    cols = [rep_nl(col.get_text()) for col in rows[0].find_all(\"td\") if col.get_text()]\n",
    "    values = [value.get_text() for row in rows[1:] for value in row.find_all(\"td\")]\n",
    "    stacked_values = zip(*[values[i::4] for i in range(len(cols))])\n",
    "    \n",
    "    # Create the DataFrame\n",
    "    df = pd.DataFrame(stacked_values, columns = cols, index = np.arange(len(stacked_values)))\n",
    "    \n",
    "    # Clean up the DataFrame\n",
    "    grades = df.drop('TERM', axis=1)\n",
    "    grades.ENRL = [int(enrl) for enrl in grades['ENRL']]\n",
    "    grades.MEDIAN = [numeric(grade) for grade in grades['MEDIAN']]\n",
    "    \n",
    "    return grades\n"
   ]
  },
  {
   "cell_type": "code",
   "execution_count": 3,
   "metadata": {
    "collapsed": true
   },
   "outputs": [],
   "source": [
    "def get_dept(table):\n",
    "    \"\"\"\n",
    "    PARAMETERS\n",
    "    ----------\n",
    "    table: DataFrame\n",
    "        Contains the 'COURSE', 'ENRL', and 'MEDIAN' info for any academic term\n",
    "    \n",
    "    RETURNS\n",
    "    -------\n",
    "    DataFrame with 'DEPT' information that align with the 'COURSE' info from the initial table\n",
    "    \n",
    "    \"\"\"\n",
    "    depts = table['COURSE'].str[:4].to_frame()\n",
    "    depts.columns = ['DEPT']\n",
    "    return depts\n"
   ]
  },
  {
   "cell_type": "code",
   "execution_count": 4,
   "metadata": {
    "collapsed": true
   },
   "outputs": [],
   "source": [
    "def get_course_nums(table):\n",
    "    \"\"\"\n",
    "    PARAMETERS\n",
    "    ----------\n",
    "    table: DataFrame\n",
    "        Contains the `COURSE`, `ENRL`, and `MEDIAN` information for any academic term\n",
    "    \n",
    "    RETURNS\n",
    "    -------\n",
    "    Dataframe containing course numbers aligned with their corresponding course titles from\n",
    "    the initial DataFrame `df`\n",
    "    \n",
    "    \"\"\"\n",
    "    nums_dirty = table['COURSE'].str[5:].to_frame()\n",
    "    nums_list = [re.split('[- .]',str(nums_dirty.iloc[i]['COURSE']))[0] \n",
    "                 for i in range(len(nums_dirty.index))]\n",
    "    nums_df = pd.DataFrame(nums_list, columns=['NUM'])\n",
    "    nums_df.NUM = [int(num) for num in nums_df.NUM]\n",
    "    return nums_df\n"
   ]
  },
  {
   "cell_type": "code",
   "execution_count": 12,
   "metadata": {
    "collapsed": true
   },
   "outputs": [],
   "source": [
    "def get_full_df():\n",
    "    \n",
    "    def get_term_df(term):\n",
    "        \"\"\"\n",
    "        PARAMETERS\n",
    "        ----------\n",
    "        term: String\n",
    "            Specifies the academic term to retrieve data for\n",
    "    \n",
    "        RETURNS\n",
    "        -------\n",
    "        DataFrame containing `DEPT`, `NUM`, `ENRL`, and `MEDIAN`; that is, the DataFrame contains\n",
    "        information about the department, class number, enrolled students, and median grade for\n",
    "        each class during the specified `term`\n",
    "        \n",
    "        \"\"\"\n",
    "        table = get_table(term)\n",
    "        depts = get_dept(table)\n",
    "        course_nums = get_course_nums(table)\n",
    "        df = table.drop('COURSE', axis=1)\n",
    "        df = pd.concat([depts, course_nums, df], axis=1)\n",
    "        return df\n",
    "    \n",
    "    listed_terms = [\"14X\", \"14F\", \"15W\", \"15S\", \"15X\", \"15F\", \"16W\", \"16S\", \"16X\", \"16F\"]\n",
    "    full_df = get_term_df(listed_terms[0])\n",
    "    \n",
    "    for term in listed_terms[1:]:\n",
    "        df = get_term_df(term)\n",
    "        full_df = pd.concat([full_df, df])\n",
    "    \n",
    "    return full_df\n"
   ]
  },
  {
   "cell_type": "code",
   "execution_count": 13,
   "metadata": {
    "collapsed": false
   },
   "outputs": [],
   "source": [
    "def dept_fig(df, dept):\n",
    "    \"\"\"\n",
    "    \"\"\"\n",
    "    \n",
    "    fig, ax = plt.subplots(figsize=(10,6))\n",
    "    n = xrange(len(df.loc[dept].index))\n",
    "    ax.set_xlabel('Course Nums')\n",
    "    ax.set_ylabel('Median Grades')\n",
    "    ax.set_title('Average Median Grades for %s Dept' %dept)\n",
    "    ax.xaxis.set_ticks(np.arange(len(df.loc[dept].index)))\n",
    "    \n",
    "    a = df.loc[dept].index.tolist()\n",
    "    ax.set_xticklabels(a, rotation='vertical')\n",
    "    ax.bar(n, df.loc[dept]['MEDIAN'], alpha=0.5, align='center')\n",
    "    \n",
    "    plt.close()\n",
    "    \n",
    "    return fig\n"
   ]
  },
  {
   "cell_type": "code",
   "execution_count": 14,
   "metadata": {
    "collapsed": false
   },
   "outputs": [],
   "source": [
    "from ipywidgets import interact, interactive, fixed\n",
    "import ipywidgets as widgets\n",
    "\n",
    "df = get_full_df()\n",
    "depts_df = df.groupby(['DEPT']).count()\n",
    "depts = depts_df.index.tolist()\n",
    "df = df.groupby(['DEPT', 'NUM']).agg(np.mean)"
   ]
  },
  {
   "cell_type": "code",
   "execution_count": 15,
   "metadata": {
    "collapsed": false
   },
   "outputs": [],
   "source": [
    "i = interactive(dept_fig, df=fixed(df), dept=depts)"
   ]
  },
  {
   "cell_type": "code",
   "execution_count": 16,
   "metadata": {
    "collapsed": false
   },
   "outputs": [
    {
     "data": {
      "image/png": "[encoded data removed]",
      "text/plain": [
       "<matplotlib.figure.Figure at 0x118cc5c90>"
      ]
     },
     "metadata": {},
     "output_type": "display_data"
    }
   ],
   "source": [
    "from IPython.display import display\n",
    "\n",
    "display(i)"
   ]
  },
  {
   "cell_type": "code",
   "execution_count": null,
   "metadata": {
    "collapsed": true
   },
   "outputs": [],
   "source": []
  }
 ],
 "metadata": {
  "kernelspec": {
   "display_name": "Python 2",
   "language": "python",
   "name": "python2"
  },
  "language_info": {
   "codemirror_mode": {
    "name": "ipython",
    "version": 2
   },
   "file_extension": ".py",
   "mimetype": "text/x-python",
   "name": "python",
   "nbconvert_exporter": "python",
   "pygments_lexer": "ipython2",
   "version": "2.7.13"
  },
  "widgets": {
   "state": {
    "71f38f6667354b4f9cdb622c635997ce": {
     "views": [
      {
       "cell_index": 9
      }
     ]
    }
   },
   "version": "1.2.0"
  }
 },
 "nbformat": 4,
 "nbformat_minor": 2
}
